{
 "cells": [
  {
   "cell_type": "code",
   "execution_count": 1,
   "id": "b46aeae3-2452-4c95-b4bb-9b76b0a7a7a8",
   "metadata": {},
   "outputs": [],
   "source": [
    "import numpy as np\n",
    "import pandas as pd"
   ]
  },
  {
   "cell_type": "code",
   "execution_count": 3,
   "id": "1f47d6fa-bee0-4c1d-8a11-bbc10f91016c",
   "metadata": {},
   "outputs": [],
   "source": [
    "df = pd.DataFrame([[8,8,4],[7,9,5],[6,10,16],[5,12,7]],columns=['cgpa','resume score','package'])"
   ]
  },
  {
   "cell_type": "code",
   "execution_count": 39,
   "id": "f31c36cb-902d-4f7d-96ed-72b66bfb89bb",
   "metadata": {},
   "outputs": [],
   "source": [
    "def initialize_pararmeters(layer_dims):\n",
    "    np.random.seed(3)\n",
    "    parameters = {}\n",
    "    L = len(layer_dims)\n",
    "    for l in range(1, L):\n",
    "        \n",
    "        parameters['w' + str(l)] = np.ones((layer_dims[l-1],layer_dims[1]))*0.1\n",
    "        parameters['b' + str(l)] = np.zeros((layer_dims[l], 1))\n",
    "    \n",
    "    return parameters"
   ]
  },
  {
   "cell_type": "code",
   "execution_count": 41,
   "id": "aacb813e-6478-49e7-a46a-5d507e11cc94",
   "metadata": {},
   "outputs": [
    {
     "data": {
      "text/plain": [
       "{'w1': array([[0.1, 0.1],\n",
       "        [0.1, 0.1]]),\n",
       " 'b1': array([[0.],\n",
       "        [0.]]),\n",
       " 'w2': array([[0.1, 0.1],\n",
       "        [0.1, 0.1]]),\n",
       " 'b2': array([[0.]])}"
      ]
     },
     "execution_count": 41,
     "metadata": {},
     "output_type": "execute_result"
    }
   ],
   "source": [
    "initialize_pararmeters([2,2,1])"
   ]
  },
  {
   "cell_type": "code",
   "execution_count": 43,
   "id": "3e2dbac2-0f29-4de9-823b-9151ea209e37",
   "metadata": {},
   "outputs": [],
   "source": [
    "def linear_forward(A_prev, w, b):\n",
    "    z = np.dot(w.T, A_prev) + b\n",
    "    return z"
   ]
  },
  {
   "cell_type": "code",
   "execution_count": 194,
   "id": "7a8065d0-4d33-4193-8d1d-69cedd57cc74",
   "metadata": {},
   "outputs": [],
   "source": [
    "# Forward prpagation \n",
    "def L_layer_forward(X, parameters):\n",
    "    \n",
    "    A = X                  #first student \n",
    "    L = len(parameters) // 2      #no of layers in the NN \n",
    "\n",
    "    for i in range(1, L+1):\n",
    "        A_prev = A\n",
    "        w1 = parameters['w' + str(i)]\n",
    "        b1 = parameters['b' + str(i)]\n",
    "       # print(\"A\"+str(i-1)+\": \",A_prev)\n",
    "       # print(\"w\"+str(i)+\": \",w1)\n",
    "       # print(\"b\"+str(i)+\": \",b1)\n",
    "       # print(\"--\"*20)\n",
    "\n",
    "        A = linear_forward(A_prev, w1, b1)\n",
    "       # print(\"A\"+str(i)+\": \", A)\n",
    "       # print(\"**\"*20)\n",
    "\n",
    "    return A,A_prev"
   ]
  },
  {
   "cell_type": "code",
   "execution_count": 132,
   "id": "1d47889f-a70a-4a62-bd0f-9cf87c752bc6",
   "metadata": {},
   "outputs": [],
   "source": [
    "X = df[['cgpa','resume score']].values[0].reshape(2,1)  #shape(no of features, no of training example)\n",
    "y = df[['package']].values[0][0]\n",
    "\n",
    "# Parameter initialization\n",
    "parameters = initialize_pararmeters([2,2,1])"
   ]
  },
  {
   "cell_type": "code",
   "execution_count": 134,
   "id": "27db50b9-5c95-4213-8624-460d594eb480",
   "metadata": {},
   "outputs": [
    {
     "data": {
      "text/plain": [
       "4"
      ]
     },
     "execution_count": 134,
     "metadata": {},
     "output_type": "execute_result"
    }
   ],
   "source": [
    "y"
   ]
  },
  {
   "cell_type": "code",
   "execution_count": 146,
   "id": "87da13ac-445f-4c88-a603-c4a34ee2a9d2",
   "metadata": {},
   "outputs": [
    {
     "name": "stdout",
     "output_type": "stream",
     "text": [
      "A0:  [[8]\n",
      " [8]]\n",
      "w1:  [[0.1 0.1]\n",
      " [0.1 0.1]]\n",
      "b1:  [[0.]\n",
      " [0.]]\n",
      "----------------------------------------\n",
      "A1:  [[1.6]\n",
      " [1.6]]\n",
      "****************************************\n",
      "A1:  [[1.6]\n",
      " [1.6]]\n",
      "w2:  [[0.1 0.1]\n",
      " [0.1 0.1]]\n",
      "b2:  [[0.]]\n",
      "----------------------------------------\n",
      "A2:  [[0.32]\n",
      " [0.32]]\n",
      "****************************************\n"
     ]
    },
    {
     "data": {
      "text/plain": [
       "(array([[0.32],\n",
       "        [0.32]]),\n",
       " array([[1.6],\n",
       "        [1.6]]))"
      ]
     },
     "execution_count": 146,
     "metadata": {},
     "output_type": "execute_result"
    }
   ],
   "source": [
    "y_hat, A1 = L_layer_forward(X,parameters)\n",
    "y_hat, A1"
   ]
  },
  {
   "cell_type": "code",
   "execution_count": 148,
   "id": "5202fdee-db7a-4878-902c-8be6795b7750",
   "metadata": {},
   "outputs": [],
   "source": [
    "y_hat = y_hat[0][0]"
   ]
  },
  {
   "cell_type": "code",
   "execution_count": 136,
   "id": "03a7369c-1d0a-490b-ba64-960875fa7677",
   "metadata": {},
   "outputs": [
    {
     "data": {
      "text/plain": [
       "13.5424"
      ]
     },
     "execution_count": 136,
     "metadata": {},
     "output_type": "execute_result"
    }
   ],
   "source": [
    "# Loss for the first student \n",
    "(y-0.32)**2"
   ]
  },
  {
   "cell_type": "code",
   "execution_count": 176,
   "id": "8de75de6-42d3-45bc-b827-53d0aa0f257e",
   "metadata": {},
   "outputs": [],
   "source": [
    "update_parameters(parameters,y,y_hat,A1,X)"
   ]
  },
  {
   "cell_type": "code",
   "execution_count": 178,
   "id": "8a7aa9c3-5b63-49a4-bc6f-3794d4466af3",
   "metadata": {},
   "outputs": [
    {
     "data": {
      "text/plain": [
       "{'w1': array([[0.1931736 , 0.1107416 ],\n",
       "        [0.15576548, 0.10866148]]),\n",
       " 'b1': array([[0.1837747 ],\n",
       "        [0.14818669]]),\n",
       " 'w2': array([[0.182432, 0.1     ],\n",
       "        [0.147104, 0.1     ]]),\n",
       " 'b2': array([[0.154464]])}"
      ]
     },
     "execution_count": 178,
     "metadata": {},
     "output_type": "execute_result"
    }
   ],
   "source": [
    "parameters"
   ]
  },
  {
   "cell_type": "code",
   "execution_count": 180,
   "id": "edfe3ba2-5892-4e06-88ab-793ccdb86dcf",
   "metadata": {},
   "outputs": [
    {
     "name": "stdout",
     "output_type": "stream",
     "text": [
      "A0:  [[7]\n",
      " [9]]\n",
      "w1:  [[0.1931736  0.1107416 ]\n",
      " [0.15576548 0.10866148]]\n",
      "b1:  [[0.1837747 ]\n",
      " [0.14818669]]\n",
      "----------------------------------------\n",
      "A1:  [[2.93787922]\n",
      " [1.90133121]]\n",
      "****************************************\n",
      "A1:  [[2.93787922]\n",
      " [1.90133121]]\n",
      "w2:  [[0.182432 0.1     ]\n",
      " [0.147104 0.1     ]]\n",
      "b2:  [[0.154464]]\n",
      "----------------------------------------\n",
      "A2:  [[0.97012061]\n",
      " [0.63838504]]\n",
      "****************************************\n"
     ]
    },
    {
     "data": {
      "text/plain": [
       "(array([[0.97012061],\n",
       "        [0.63838504]]),\n",
       " array([[2.93787922],\n",
       "        [1.90133121]]))"
      ]
     },
     "execution_count": 180,
     "metadata": {},
     "output_type": "execute_result"
    }
   ],
   "source": [
    "X = df[['cgpa','resume score']].values[1].reshape(2,1)  #shape(no of features, no of training example)\n",
    "y = df[['package']].values[1][0]\n",
    "\n",
    "y_hat, A1 = L_layer_forward(X,parameters)\n",
    "y_hat, A1"
   ]
  },
  {
   "cell_type": "code",
   "execution_count": 186,
   "id": "2a97a068-cf2b-47bb-954e-97aecb2e9134",
   "metadata": {},
   "outputs": [],
   "source": [
    "y_hat = y_hat[0][0]"
   ]
  },
  {
   "cell_type": "code",
   "execution_count": 188,
   "id": "5b4e24a5-01f8-42fe-af96-27c391684369",
   "metadata": {},
   "outputs": [],
   "source": [
    "update_parameters(parameters,y,y_hat,A1,X)"
   ]
  },
  {
   "cell_type": "code",
   "execution_count": 190,
   "id": "61f5eb89-5efc-4154-8572-e9e34592443a",
   "metadata": {},
   "outputs": [
    {
     "data": {
      "text/plain": [
       "{'w1': array([[0.21773901, 0.11495082],\n",
       "        [0.1715922 , 0.11178219]]),\n",
       " 'b1': array([[0.2077718],\n",
       "        [0.1637374]]),\n",
       " 'w2': array([[0.2061106 , 0.1       ],\n",
       "        [0.16242827, 0.1       ]]),\n",
       " 'b2': array([[0.17048803]])}"
      ]
     },
     "execution_count": 190,
     "metadata": {},
     "output_type": "execute_result"
    }
   ],
   "source": [
    "parameters"
   ]
  },
  {
   "cell_type": "code",
   "execution_count": 208,
   "id": "c3096443-ff77-4335-a317-9614fed75c02",
   "metadata": {},
   "outputs": [],
   "source": [
    "# updates weights and biases\n",
    "\n",
    "def update_parameters(parameters,y,y_hat,A1,X):\n",
    "    parameters['w2'][0][0] = parameters['w2'][0][0] + (0.001 * 2 * (y - y_hat)*A1[0][0])\n",
    "    parameters['w2'][1][0] = parameters['w2'][1][0] + (0.001 * 2 * (y - y_hat)*A1[1][0])\n",
    "    parameters['b2'][0][0] = parameters['w2'][1][0] + (0.001 * 2 * (y - y_hat))\n",
    "\n",
    "    parameters['w1'][0][0] = parameters['w2'][0][0] + (0.001 * 2 * (y - y_hat)*parameters['w2'][0][0]*X[0][0])\n",
    "    parameters['w1'][0][1] = parameters['w2'][0][1] + (0.001 * 2 * (y - y_hat)*parameters['w2'][0][0]*X[1][0])\n",
    "    parameters['b1'][0][0] = parameters['w2'][0][0] + (0.001 * 2 * (y - y_hat)*parameters['w2'][0][0])\n",
    "\n",
    "    parameters['w1'][1][0] = parameters['w2'][1][0] + (0.001 * 2 * (y - y_hat)*parameters['w2'][1][0]*X[0][0])\n",
    "    parameters['w1'][1][1] = parameters['w2'][1][1] + (0.001 * 2 * (y - y_hat)*parameters['w2'][1][0]*X[1][0])\n",
    "    parameters['b1'][1][0] = parameters['w2'][1][0] + (0.001 * 2 * (y - y_hat)*parameters['w2'][1][0])  "
   ]
  },
  {
   "cell_type": "code",
   "execution_count": 210,
   "id": "a86a707e-9917-44e7-817a-faff5a011133",
   "metadata": {},
   "outputs": [
    {
     "name": "stdout",
     "output_type": "stream",
     "text": [
      "Epochs -  1 loss -  74.41338209565444\n",
      "Epochs -  2 loss -  53.937065077846746\n",
      "Epochs -  3 loss -  36.017959241951736\n",
      "Epochs -  4 loss -  31.136378610027656\n",
      "Epochs -  5 loss -  30.74807926440739\n",
      "Epochs -  6 loss -  30.80103176109458\n",
      "Epochs -  7 loss -  30.837564525055722\n",
      "Epochs -  8 loss -  30.853869581341318\n",
      "Epochs -  9 loss -  30.862787390917244\n",
      "Epochs -  10 loss -  30.869510742271466\n"
     ]
    },
    {
     "data": {
      "text/plain": [
       "{'w1': array([[0.70455359, 0.04173482],\n",
       "        [0.35364637, 0.07075415]]),\n",
       " 'b1': array([[0.72397532],\n",
       "        [0.36339499]]),\n",
       " 'w2': array([[0.72883075, 0.1       ],\n",
       "        [0.36583215, 0.1       ]]),\n",
       " 'b2': array([[0.3591702]])}"
      ]
     },
     "execution_count": 210,
     "metadata": {},
     "output_type": "execute_result"
    }
   ],
   "source": [
    "# epoches implimentation\n",
    "\n",
    "parameters = initialize_pararmeters([2,2,1])\n",
    "epochs = 10\n",
    "\n",
    "for i in range(epochs):\n",
    "\n",
    "    loss = []\n",
    "\n",
    "    for j in range(df.shape[0]):\n",
    "\n",
    "        X = df[['cgpa','resume score']].values[j].reshape(2,1)  #shape(no of features, no of training example)\n",
    "        y = df[['package']].values[j][0]\n",
    "\n",
    "        # initalize parameters\n",
    "\n",
    "        y_hat, A1 = L_layer_forward(X,parameters)\n",
    "        y_hat = y_hat[0][0]\n",
    "\n",
    "        update_parameters(parameters,y,y_hat,A1,X)\n",
    "\n",
    "        loss.append((y-y_hat)**2)\n",
    "\n",
    "    print(\"Epochs - \",i+1, \"loss - \",np.array(loss).mean())\n",
    "parameters"
   ]
  },
  {
   "cell_type": "code",
   "execution_count": null,
   "id": "ea2f7f9f-5928-44a6-8635-aeac57f9ccb8",
   "metadata": {},
   "outputs": [],
   "source": []
  }
 ],
 "metadata": {
  "kernelspec": {
   "display_name": "Python 3 (ipykernel)",
   "language": "python",
   "name": "python3"
  },
  "language_info": {
   "codemirror_mode": {
    "name": "ipython",
    "version": 3
   },
   "file_extension": ".py",
   "mimetype": "text/x-python",
   "name": "python",
   "nbconvert_exporter": "python",
   "pygments_lexer": "ipython3",
   "version": "3.11.5"
  }
 },
 "nbformat": 4,
 "nbformat_minor": 5
}
