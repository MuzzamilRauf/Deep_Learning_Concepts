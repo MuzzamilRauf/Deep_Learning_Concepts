{
 "cells": [
  {
   "cell_type": "code",
   "execution_count": 1,
   "id": "60c8c9ea-6167-4429-a838-b7f08e129d3c",
   "metadata": {},
   "outputs": [],
   "source": [
    "import numpy as np\n",
    "import pandas as pd"
   ]
  },
  {
   "cell_type": "code",
   "execution_count": 2,
   "id": "274466ed-2306-48c4-bf1f-4538e9ee4d18",
   "metadata": {},
   "outputs": [],
   "source": [
    "df = pd.DataFrame([[8,8,0],[7,9,0],[6,10,1],[5,12,0]],columns=['cgpa','profile_score','package'])"
   ]
  },
  {
   "cell_type": "code",
   "execution_count": 3,
   "id": "a5bd352a-82f9-47a7-90d3-20f8136ef527",
   "metadata": {},
   "outputs": [],
   "source": [
    "def initialize_parameters(layer_dim):\n",
    "    np.random.seed(3)\n",
    "    parameters = {}\n",
    "    L = len(layer_dim)\n",
    "\n",
    "    for i in range(1, L):\n",
    "        parameters['w'+ str(i)] = np.ones((layer_dim[i-1],layer_dim[i]))*0.1\n",
    "        parameters['b'+ str(i)] = np.zeros((layer_dim[i], 1))\n",
    "    return parameters"
   ]
  },
  {
   "cell_type": "code",
   "execution_count": 4,
   "id": "a91c75b8-8335-4e08-b8c6-83c25b4537aa",
   "metadata": {},
   "outputs": [
    {
     "data": {
      "text/plain": [
       "{'w1': array([[0.1, 0.1, 0.1],\n",
       "        [0.1, 0.1, 0.1],\n",
       "        [0.1, 0.1, 0.1]]),\n",
       " 'b1': array([[0.],\n",
       "        [0.],\n",
       "        [0.]]),\n",
       " 'w2': array([[0.1],\n",
       "        [0.1],\n",
       "        [0.1]]),\n",
       " 'b2': array([[0.]])}"
      ]
     },
     "execution_count": 4,
     "metadata": {},
     "output_type": "execute_result"
    }
   ],
   "source": [
    "initialize_parameters([3,3,1])"
   ]
  },
  {
   "cell_type": "code",
   "execution_count": 5,
   "id": "27bb8238-ed37-4726-b5aa-a8c7667fb144",
   "metadata": {},
   "outputs": [],
   "source": [
    "def sigmoid_forward(A_prev,w,b):\n",
    "    z = np.dot(w.T,A_prev) + b\n",
    "    A = 1/(1+np.exp(-z))\n",
    "    return A"
   ]
  },
  {
   "cell_type": "code",
   "execution_count": 6,
   "id": "7aeaf96a-9ce2-4f10-9f8f-2f337cfbcf60",
   "metadata": {},
   "outputs": [],
   "source": [
    "# forward propagation\n",
    "def L_layer_forward(X,parameters):\n",
    "    \n",
    "    A = X\n",
    "    L = len(parameters)//2       #number of layers in the neural network\n",
    "\n",
    "    for i in range(1, L+1):\n",
    "        A_prev = A\n",
    "        w1 = parameters['w' + str(i)]\n",
    "        b1 = parameters['b' + str(i)]\n",
    "       # print(\"A\"+str(i-1)+\": \",A_prev)\n",
    "       # print(\"w\"+str(i)+\": \",w1)\n",
    "       # print(\"b\"+str(i)+\": \",b1)\n",
    "       # print(\"--\"*20)\n",
    "\n",
    "        A = sigmoid_forward(A_prev, w1, b1)\n",
    "       # print(\"A\"+str(i)+\": \", A)\n",
    "       # print(\"**\"*20)\n",
    "\n",
    "    return A,A_prev"
   ]
  },
  {
   "cell_type": "code",
   "execution_count": 33,
   "id": "0d44b008-139d-41f1-be7f-e8e6d1a26333",
   "metadata": {},
   "outputs": [],
   "source": [
    "# updates weights and biases\n",
    "\n",
    "def update_parameters(parameters,y,y_hat,A1,X):\n",
    "    parameters['w2'][0][0] = parameters['w2'][0][0] + (0.0001 * (y - y_hat)*A1[0][0])\n",
    "    parameters['w2'][1][0] = parameters['w2'][1][0] + (0.0001 * (y - y_hat)*A1[1][0])\n",
    "    parameters['b2'][0][0] = parameters['w2'][1][0] + (0.0001 * (y - y_hat))\n",
    "\n",
    "    parameters['w1'][0][0] = parameters['w2'][0][0] + (0.0001 * (y - y_hat)*parameters['w2'][0][0]*A1[0][0]*(1-A1[0][0])*X[0][0])\n",
    "    # parameters['w1'][1][0] = parameters['w2'][1][0] + (0.0001 * (y - y_hat)*parameters['w2'][0][0]*A1[0][0]*(1-A1[0][0])*X[1][0])\n",
    "    parameters['b1'][0][0] = parameters['w2'][0][0] + (0.0001 * (y - y_hat)*parameters['w2'][0][0]*A1[0][0]*(1-A1[0][0]))\n",
    "\n",
    "    parameters['w1'][1][0] = parameters['w2'][1][0] + (0.0001 * (y - y_hat)*parameters['w2'][1][0]*A1[1][0]*(1-A1[1][0])*X[0][0])\n",
    "    # parameters['w1'][1][0] = parameters['w2'][1][0] + (0.0001 * (y - y_hat)*parameters['w2'][1][0]*A1[1][0]*(1-A1[1][0])*X[1][0])\n",
    "    parameters['b1'][1][0] = parameters['w2'][1][0] + (0.0001 * (y - y_hat)*parameters['w2'][1][0]*A1[1][0]*(1-A1[1][0]))  "
   ]
  },
  {
   "cell_type": "code",
   "execution_count": 35,
   "id": "7bd25610-6354-4271-b56c-036c3db26e9f",
   "metadata": {},
   "outputs": [
    {
     "name": "stdout",
     "output_type": "stream",
     "text": [
      "Loss for this student -  0.7798063059256977\n"
     ]
    },
    {
     "data": {
      "text/plain": [
       "{'w1': array([[0.09994889, 0.1       ],\n",
       "        [0.09994889, 0.1       ]]),\n",
       " 'b1': array([[0.09995419],\n",
       "        [0.09995419]]),\n",
       " 'w2': array([[0.09995495],\n",
       "        [0.09995495]]),\n",
       " 'b2': array([[0.0999008]])}"
      ]
     },
     "execution_count": 35,
     "metadata": {},
     "output_type": "execute_result"
    }
   ],
   "source": [
    "X = df[['cgpa','profile_score']].values[0].reshape(2,1)  #shape(no of features, no of training example)\n",
    "y = df[['package']].values[0][0]\n",
    "\n",
    "# Parameter initialization\n",
    "parameters = initialize_parameters([2,2,1])\n",
    "\n",
    "y_hat, A1 = L_layer_forward(X,parameters)\n",
    "y_hat = y_hat[0][0]\n",
    "\n",
    "update_parameters(parameters,y,y_hat,A1,X)\n",
    "\n",
    "print('Loss for this student - ', -y*np.log(y_hat) - (1-y)*np.log(1-y_hat))\n",
    "\n",
    "parameters"
   ]
  },
  {
   "cell_type": "code",
   "execution_count": null,
   "id": "15f84a99-8d5d-418c-b6df-63b061a4dea4",
   "metadata": {},
   "outputs": [],
   "source": []
  },
  {
   "cell_type": "code",
   "execution_count": null,
   "id": "bc2b8e17-cc5c-4171-bd37-21597199c0a1",
   "metadata": {},
   "outputs": [],
   "source": []
  }
 ],
 "metadata": {
  "kernelspec": {
   "display_name": "Python 3 (ipykernel)",
   "language": "python",
   "name": "python3"
  },
  "language_info": {
   "codemirror_mode": {
    "name": "ipython",
    "version": 3
   },
   "file_extension": ".py",
   "mimetype": "text/x-python",
   "name": "python",
   "nbconvert_exporter": "python",
   "pygments_lexer": "ipython3",
   "version": "3.11.5"
  }
 },
 "nbformat": 4,
 "nbformat_minor": 5
}
